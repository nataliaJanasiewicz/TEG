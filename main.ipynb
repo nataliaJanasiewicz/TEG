{
 "cells": [
  {
   "cell_type": "code",
   "execution_count": 16,
   "id": "2cfacab6",
   "metadata": {},
   "outputs": [
    {
     "name": "stdout",
     "output_type": "stream",
     "text": [
      "hi\n"
     ]
    }
   ],
   "source": [
    "print('hi')"
   ]
  },
  {
   "cell_type": "code",
   "execution_count": null,
   "id": "61109783",
   "metadata": {},
   "outputs": [],
   "source": [
    "import os\n",
    "from dotenv import load_dotenv\n",
    "from langchain_openai import ChatOpenAI\n",
    "from langchain_core.messages import HumanMessage, SystemMessage"
   ]
  },
  {
   "cell_type": "code",
   "execution_count": 21,
   "id": "605ada7d",
   "metadata": {},
   "outputs": [
    {
     "name": "stdout",
     "output_type": "stream",
     "text": [
      "Aktualny katalog: /Users/nacia/Desktop/TEG/TEG_PROJECT/TEG\n",
      "Zawartość katalogu: ['main.ipynb', 'requirements.txt', '.gitignore', '.env', 'venv', '.git']\n"
     ]
    }
   ],
   "source": [
    "import os\n",
    "print(\"Aktualny katalog:\", os.getcwd())\n",
    "print(\"Zawartość katalogu:\", os.listdir())\n"
   ]
  },
  {
   "cell_type": "code",
   "execution_count": 27,
   "id": "d2456cf5",
   "metadata": {},
   "outputs": [
    {
     "data": {
      "text/plain": [
       "True"
      ]
     },
     "execution_count": 27,
     "metadata": {},
     "output_type": "execute_result"
    }
   ],
   "source": [
    "dotenv_path = os.path.join('.env')\n",
    "load_dotenv(dotenv_path)"
   ]
  },
  {
   "cell_type": "code",
   "execution_count": 26,
   "id": "43191311",
   "metadata": {},
   "outputs": [
    {
     "name": "stdout",
     "output_type": "stream",
     "text": [
      "Używany .env path: /Users/nacia/Desktop/TEG/TEG_PROJECT/TEG/.env\n"
     ]
    },
    {
     "data": {
      "text/plain": [
       "False"
      ]
     },
     "execution_count": 26,
     "metadata": {},
     "output_type": "execute_result"
    }
   ],
   "source": [
    "dotenv_path = os.path.abspath('.env')  # pełna ścieżka\n",
    "print(\"Używany .env path:\", dotenv_path)\n",
    "load_dotenv(dotenv_path=dotenv_path)"
   ]
  },
  {
   "cell_type": "code",
   "execution_count": null,
   "id": "2b5e1166",
   "metadata": {},
   "outputs": [
    {
     "name": "stdout",
     "output_type": "stream",
     "text": [
      "API KEY: None\n"
     ]
    }
   ],
   "source": [
    "print(\"API KEY:\", os.getenv(\"OPENAI_API_KEY_TEG\"))"
   ]
  },
  {
   "cell_type": "code",
   "execution_count": null,
   "id": "4dc2a51f",
   "metadata": {},
   "outputs": [],
   "source": [
    "api_key = os.getenv('OPENAI_API_KEY_TEG')\n",
    "if not api_key:\n",
    "    raise ValueError(\n",
    "        \"OpenAI API key not found. Please add OPENAI_API_KEY_TEG to your .env file\"\n",
    "    )"
   ]
  },
  {
   "cell_type": "code",
   "execution_count": 29,
   "id": "8df21f77",
   "metadata": {},
   "outputs": [],
   "source": [
    "def get_openai_response(promt: str, system_context:str = None):\n",
    "\n",
    "    try:\n",
    "        chat = ChatOpenAI(\n",
    "            model=\"gpt-4o-mini\",\n",
    "            temperature=0.9\n",
    "        )\n",
    "\n",
    "        messages = []\n",
    "\n",
    "        if system_context:\n",
    "            messages.append(SystemMessage(content=system_context))\n",
    "\n",
    "        messages.append(HumanMessage(content=promt))\n",
    "\n",
    "        response = chat.invoke(messages)\n",
    "\n",
    "        return response.content\n",
    "    \n",
    "    except Exception as e:\n",
    "        print(f\"An error occured: {e}\")\n",
    "        return None\n"
   ]
  },
  {
   "cell_type": "code",
   "execution_count": 30,
   "id": "4f9d0d70",
   "metadata": {},
   "outputs": [
    {
     "name": "stdout",
     "output_type": "stream",
     "text": [
      "An error occured: The api_key client option must be set either by passing api_key to the client or by setting the OPENAI_API_KEY environment variable\n"
     ]
    }
   ],
   "source": [
    "system_context = \"You are a helpful assistant who explain things in a way that a 5-year-old would undersend\"\n",
    "prompt = \"What are the multi-agents structures in Ai?\"\n",
    "response = get_openai_response( prompt, system_context)\n",
    "\n",
    "if response:\n",
    "    print(\"Prompt:\", prompt)\n",
    "    print(\"System context:\", system_context)\n",
    "    print(\"\\n\\nResponse:\", response)"
   ]
  }
 ],
 "metadata": {
  "kernelspec": {
   "display_name": "venv",
   "language": "python",
   "name": "python3"
  },
  "language_info": {
   "codemirror_mode": {
    "name": "ipython",
    "version": 3
   },
   "file_extension": ".py",
   "mimetype": "text/x-python",
   "name": "python",
   "nbconvert_exporter": "python",
   "pygments_lexer": "ipython3",
   "version": "3.11.7"
  }
 },
 "nbformat": 4,
 "nbformat_minor": 5
}
